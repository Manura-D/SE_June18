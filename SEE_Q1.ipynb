{
 "cells": [
  {
   "cell_type": "markdown",
   "metadata": {},
   "source": [
    "Write a function in python to sum up a given set of numbers other than itself\n",
    "Input: An array of n integers nums,\n",
    "Output: An array output such that output[i] is equal to the sum of all the elements\n",
    "of nums except nums[i].\n",
    "For example, given [1,2,3,4], return [9,8,7,6]."
   ]
  },
  {
   "cell_type": "code",
   "execution_count": 1,
   "metadata": {
    "collapsed": true
   },
   "outputs": [],
   "source": [
    "def ArraySum (a = [1,2,3,4]) :\n",
    "    \n",
    "    \"\"\" summation of an array of integers, iterate excluding individual array elements\"\"\"\n",
    "    \n",
    "    if not isinstance(a,list):\n",
    "        raise TypeError(\"Input is not a list\")\n",
    "    #elif any(isinstance(el, list) for el in a):\n",
    "    #    raise TypeError(\"Not a one dimension list\")\n",
    "    elif not all(isinstance(el, int) for el in a):\n",
    "        raise TypeError(\"List is not a one dimension list of integers\")\n",
    "        \n",
    "    b = []\n",
    "    s = sum(a)\n",
    "    for i in a:\n",
    "        b.append(s - i)\n",
    "    #print(a)\n",
    "    return b"
   ]
  },
  {
   "cell_type": "code",
   "execution_count": 2,
   "metadata": {},
   "outputs": [
    {
     "data": {
      "text/plain": [
       "[128, 127, 101, 129, 55]"
      ]
     },
     "execution_count": 2,
     "metadata": {},
     "output_type": "execute_result"
    }
   ],
   "source": [
    "ss = ArraySum([7 , 8 , 34 , 6, 80])        \n",
    "ss"
   ]
  },
  {
   "cell_type": "code",
   "execution_count": 3,
   "metadata": {
    "collapsed": true
   },
   "outputs": [],
   "source": [
    "def test(got, expected):\n",
    "    if got == expected:\n",
    "        prefix = ' OK '\n",
    "    else:\n",
    "        prefix = '  FAIL '\n",
    "    print(('%s got: %s expected: %s' % (prefix, repr(got), repr(expected))))"
   ]
  },
  {
   "cell_type": "code",
   "execution_count": 4,
   "metadata": {},
   "outputs": [
    {
     "name": "stdout",
     "output_type": "stream",
     "text": [
      " OK  got: [128, 127, 101, 129, 55] expected: [128, 127, 101, 129, 55]\n"
     ]
    }
   ],
   "source": [
    "test(ArraySum([7 , 8 , 34 , 6, 80]) , [128, 127, 101, 129, 55])"
   ]
  },
  {
   "cell_type": "code",
   "execution_count": 5,
   "metadata": {},
   "outputs": [
    {
     "name": "stdout",
     "output_type": "stream",
     "text": [
      " OK  got: [9, 8, 7, 6] expected: [9, 8, 7, 6]\n"
     ]
    }
   ],
   "source": [
    "test(ArraySum([1 , 2 , 3 , 4]) , [9, 8, 7, 6])"
   ]
  }
 ],
 "metadata": {
  "kernelspec": {
   "display_name": "Python 3",
   "language": "python",
   "name": "python3"
  },
  "language_info": {
   "codemirror_mode": {
    "name": "ipython",
    "version": 3
   },
   "file_extension": ".py",
   "mimetype": "text/x-python",
   "name": "python",
   "nbconvert_exporter": "python",
   "pygments_lexer": "ipython3",
   "version": "3.6.3"
  }
 },
 "nbformat": 4,
 "nbformat_minor": 2
}
